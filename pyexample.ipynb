{
 "cells": [
  {
   "cell_type": "markdown",
   "metadata": {},
   "source": [
    "# Accessing Database From Python"
   ]
  },
  {
   "cell_type": "code",
   "execution_count": 1,
   "metadata": {},
   "outputs": [],
   "source": [
    "#import pandas as pd\n",
    "#import os\n",
    "import warnings\n",
    "warnings.filterwarnings('ignore')"
   ]
  },
  {
   "cell_type": "markdown",
   "metadata": {},
   "source": [
    "### Install the pymql package. This needs to be done only once"
   ]
  },
  {
   "cell_type": "code",
   "execution_count": null,
   "metadata": {},
   "outputs": [],
   "source": [
    "!pip install pymysql"
   ]
  },
  {
   "cell_type": "code",
   "execution_count": 2,
   "metadata": {},
   "outputs": [],
   "source": [
    "import pymysql"
   ]
  },
  {
   "cell_type": "code",
   "execution_count": null,
   "metadata": {},
   "outputs": [],
   "source": [
    "#conn = pymysql.connect(host = 'localhost',port=3306,user='root', passwd='secret',db='excelr')"
   ]
  },
  {
   "cell_type": "code",
   "execution_count": 3,
   "metadata": {},
   "outputs": [],
   "source": [
    "conn = pymysql.connect(host = 'localhost',port=3306, user='root',  db='practicedb', autocommit=True)"
   ]
  },
  {
   "cell_type": "markdown",
   "metadata": {},
   "source": [
    "### Using the Cursor Object"
   ]
  },
  {
   "cell_type": "code",
   "execution_count": 4,
   "metadata": {},
   "outputs": [],
   "source": [
    "# prepare a cursor object using cursor() method\n",
    "cursor = conn.cursor()"
   ]
  },
  {
   "cell_type": "code",
   "execution_count": 5,
   "metadata": {},
   "outputs": [
    {
     "data": {
      "text/plain": [
       "0"
      ]
     },
     "execution_count": 5,
     "metadata": {},
     "output_type": "execute_result"
    }
   ],
   "source": [
    "# Drop table if it already exist using execute() method.\n",
    "cursor.execute(\"DROP TABLE IF EXISTS PyBooks\")"
   ]
  },
  {
   "cell_type": "code",
   "execution_count": 6,
   "metadata": {},
   "outputs": [],
   "source": [
    "# Create table as per requirement\n",
    "sql = \"\"\"CREATE TABLE PyBooks (\n",
    "   bookid  INT PRIMARY KEY AUTO_INCREMENT,\n",
    "   bookname  CHAR(50) unique,\n",
    "   authorname CHAR(30))\"\"\""
   ]
  },
  {
   "cell_type": "code",
   "execution_count": 7,
   "metadata": {},
   "outputs": [
    {
     "data": {
      "text/plain": [
       "0"
      ]
     },
     "execution_count": 7,
     "metadata": {},
     "output_type": "execute_result"
    }
   ],
   "source": [
    "cursor.execute(sql)"
   ]
  },
  {
   "cell_type": "markdown",
   "metadata": {},
   "source": [
    "### Insert Records"
   ]
  },
  {
   "cell_type": "code",
   "execution_count": 8,
   "metadata": {},
   "outputs": [
    {
     "data": {
      "text/plain": [
       "1"
      ]
     },
     "execution_count": 8,
     "metadata": {},
     "output_type": "execute_result"
    }
   ],
   "source": [
    "sql1 = \"\"\"INSERT INTO PyBooks(bookname, authorname) \n",
    "          VALUES ('Master Python','Geethika')\"\"\"\n",
    "\n",
    "cursor.execute(sql1)  "
   ]
  },
  {
   "cell_type": "markdown",
   "metadata": {},
   "source": [
    "### Transaction Control"
   ]
  },
  {
   "cell_type": "code",
   "execution_count": 10,
   "metadata": {},
   "outputs": [
    {
     "name": "stdout",
     "output_type": "stream",
     "text": [
      "Duplicate Entry .. Rolling Back\n",
      "Done\n"
     ]
    }
   ],
   "source": [
    "\n",
    "sql1 = \"\"\"INSERT INTO PyBooks(bookname, authorname) \n",
    "          VALUES ('Master Python','Geethika')\"\"\"\n",
    "\n",
    "sql2 = \"\"\"INSERT INTO PyBooks(bookname, authorname) \n",
    "          VALUES ('Python Bible','Geethika')\"\"\"\n",
    "sql3 = \"\"\"INSERT INTO PyBooks(bookname, authorname) \n",
    "          VALUES ('Python Bible','Geethika')\"\"\"\n",
    "\n",
    "try:  \n",
    "    # Start a transaction\n",
    "    conn.begin() \n",
    "    # Execute the command\n",
    "    cursor.execute(sql1)  \n",
    "    cursor.execute(sql2)  \n",
    "    cursor.execute(sql3)  \n",
    "    \n",
    "    # Commit the transaction\n",
    "    conn.commit()\n",
    "except:\n",
    "    # Rollback transaction in case of errors\n",
    "    print(\"Duplicate Entry .. Rolling Back\")\n",
    "    conn.rollback()\n",
    "    \n",
    "print(\"Done\")"
   ]
  },
  {
   "cell_type": "code",
   "execution_count": 11,
   "metadata": {},
   "outputs": [],
   "source": [
    "sql = \"\"\"SELECT * FROM books \n",
    "      WHERE aid = 5 \"\"\" "
   ]
  },
  {
   "cell_type": "code",
   "execution_count": 12,
   "metadata": {},
   "outputs": [
    {
     "data": {
      "text/plain": [
       "3"
      ]
     },
     "execution_count": 12,
     "metadata": {},
     "output_type": "execute_result"
    }
   ],
   "source": [
    "# Execute the command\n",
    "cursor.execute(sql)"
   ]
  },
  {
   "cell_type": "code",
   "execution_count": 13,
   "metadata": {},
   "outputs": [],
   "source": [
    "# Fetch all the rows in a list of lists.\n",
    "results = cursor.fetchall()"
   ]
  },
  {
   "cell_type": "code",
   "execution_count": 14,
   "metadata": {},
   "outputs": [
    {
     "data": {
      "text/plain": [
       "((5, 'Night Without End', 5, 8),\n",
       " (6, 'Fear is the Key', 5, 3),\n",
       " (7, 'Where Eagles Dare', 5, 0))"
      ]
     },
     "execution_count": 14,
     "metadata": {},
     "output_type": "execute_result"
    }
   ],
   "source": [
    "results"
   ]
  },
  {
   "cell_type": "code",
   "execution_count": 15,
   "metadata": {},
   "outputs": [
    {
     "name": "stdout",
     "output_type": "stream",
     "text": [
      "bookid = 5,title = Night Without End,author is = 5\n",
      "bookid = 6,title = Fear is the Key,author is = 5\n",
      "bookid = 7,title = Where Eagles Dare,author is = 5\n"
     ]
    }
   ],
   "source": [
    "for row in results:\n",
    "    bookid = row[0]\n",
    "    title = row[1]\n",
    "    authorid = row[2]\n",
    "  \n",
    "    # Now print fetched result\n",
    "    print (\"bookid = %d,title = %s,author is = %d\" % \\\n",
    "     (bookid, title , authorid ))"
   ]
  },
  {
   "cell_type": "code",
   "execution_count": null,
   "metadata": {},
   "outputs": [],
   "source": [
    "#results"
   ]
  },
  {
   "cell_type": "markdown",
   "metadata": {},
   "source": [
    "## Invoking a procedure"
   ]
  },
  {
   "cell_type": "code",
   "execution_count": null,
   "metadata": {},
   "outputs": [],
   "source": [
    "cursor.callproc('myproc')\n",
    "\n",
    " \n",
    "# print out the result\n",
    "results = cursor.fetchall()\n",
    "for result in results:\n",
    "    print(result)\n"
   ]
  },
  {
   "cell_type": "code",
   "execution_count": null,
   "metadata": {},
   "outputs": [],
   "source": [
    "sql = \"\"\"select bookid, title, auth_name(authorid) from books; \"\"\" "
   ]
  },
  {
   "cell_type": "code",
   "execution_count": null,
   "metadata": {},
   "outputs": [],
   "source": [
    "# Execute the command\n",
    "cursor.execute(sql)\n",
    "# print out the result\n",
    "for result in cursor.fetchall():\n",
    "    print(result)"
   ]
  },
  {
   "cell_type": "code",
   "execution_count": null,
   "metadata": {},
   "outputs": [],
   "source": [
    "# disconnect from server\n",
    "conn.close()"
   ]
  },
  {
   "cell_type": "code",
   "execution_count": null,
   "metadata": {},
   "outputs": [],
   "source": []
  }
 ],
 "metadata": {
  "kernelspec": {
   "display_name": "Python 3",
   "language": "python",
   "name": "python3"
  },
  "language_info": {
   "codemirror_mode": {
    "name": "ipython",
    "version": 3
   },
   "file_extension": ".py",
   "mimetype": "text/x-python",
   "name": "python",
   "nbconvert_exporter": "python",
   "pygments_lexer": "ipython3",
   "version": "3.6.7"
  }
 },
 "nbformat": 4,
 "nbformat_minor": 4
}
